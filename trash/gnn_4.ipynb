{
 "cells": [
  {
   "cell_type": "code",
   "execution_count": 4,
   "metadata": {
    "collapsed": true,
    "pycharm": {
     "name": "#%%\n"
    }
   },
   "outputs": [],
   "source": [
    "import torch\n",
    "import torch.nn as nn\n",
    "import torch.nn.functional as F\n",
    "from torch_cluster import random_walk\n",
    "from sklearn.linear_model import LogisticRegression\n",
    "\n",
    "import torch_geometric.transforms as T\n",
    "from torch_geometric.nn import SAGEConv\n",
    "from torch_geometric.datasets import Planetoid\n",
    "from torch_geometric.loader import NeighborSampler as RawNeighborSampler"
   ]
  },
  {
   "cell_type": "code",
   "execution_count": 2,
   "outputs": [
    {
     "name": "stderr",
     "output_type": "stream",
     "text": [
      "Downloading https://github.com/kimiyoung/planetoid/raw/master/data/ind.cora.x\n",
      "Downloading https://github.com/kimiyoung/planetoid/raw/master/data/ind.cora.tx\n",
      "Downloading https://github.com/kimiyoung/planetoid/raw/master/data/ind.cora.allx\n",
      "Downloading https://github.com/kimiyoung/planetoid/raw/master/data/ind.cora.y\n",
      "Downloading https://github.com/kimiyoung/planetoid/raw/master/data/ind.cora.ty\n",
      "Downloading https://github.com/kimiyoung/planetoid/raw/master/data/ind.cora.ally\n",
      "Downloading https://github.com/kimiyoung/planetoid/raw/master/data/ind.cora.graph\n",
      "Downloading https://github.com/kimiyoung/planetoid/raw/master/data/ind.cora.test.index\n",
      "Processing...\n",
      "Done!\n"
     ]
    }
   ],
   "source": [
    "dataset = 'Cora'\n",
    "path = './data'\n",
    "dataset = Planetoid(path, dataset, transform=T.NormalizeFeatures())\n",
    "data = dataset[0]"
   ],
   "metadata": {
    "collapsed": false,
    "pycharm": {
     "name": "#%%\n"
    }
   }
  },
  {
   "cell_type": "code",
   "execution_count": 5,
   "outputs": [
    {
     "name": "stdout",
     "output_type": "stream",
     "text": [
      "Epoch: 001, Loss: 1.3863, Val: 0.3500, Test: 0.3500\n",
      "Epoch: 002, Loss: 1.3158, Val: 0.5720, Test: 0.5600\n",
      "Epoch: 003, Loss: 1.1550, Val: 0.6760, Test: 0.6760\n",
      "Epoch: 004, Loss: 1.1006, Val: 0.7040, Test: 0.7220\n",
      "Epoch: 005, Loss: 1.0449, Val: 0.7020, Test: 0.7200\n",
      "Epoch: 006, Loss: 1.0051, Val: 0.7080, Test: 0.7350\n",
      "Epoch: 007, Loss: 0.9972, Val: 0.7220, Test: 0.7370\n",
      "Epoch: 008, Loss: 0.9989, Val: 0.7220, Test: 0.7390\n",
      "Epoch: 009, Loss: 1.0048, Val: 0.7240, Test: 0.7390\n",
      "Epoch: 010, Loss: 0.9863, Val: 0.7320, Test: 0.7540\n",
      "Epoch: 011, Loss: 0.9672, Val: 0.7420, Test: 0.7510\n",
      "Epoch: 012, Loss: 0.9509, Val: 0.7480, Test: 0.7600\n",
      "Epoch: 013, Loss: 0.9615, Val: 0.7520, Test: 0.7660\n",
      "Epoch: 014, Loss: 0.9704, Val: 0.7580, Test: 0.7590\n",
      "Epoch: 015, Loss: 0.9519, Val: 0.7600, Test: 0.7600\n",
      "Epoch: 016, Loss: 0.9533, Val: 0.7560, Test: 0.7660\n",
      "Epoch: 017, Loss: 0.9549, Val: 0.7640, Test: 0.7750\n",
      "Epoch: 018, Loss: 0.9241, Val: 0.7760, Test: 0.7730\n",
      "Epoch: 019, Loss: 0.9385, Val: 0.7700, Test: 0.7720\n",
      "Epoch: 020, Loss: 0.9354, Val: 0.7640, Test: 0.7820\n",
      "Epoch: 021, Loss: 0.9442, Val: 0.7700, Test: 0.7890\n",
      "Epoch: 022, Loss: 0.9279, Val: 0.7620, Test: 0.7900\n",
      "Epoch: 023, Loss: 0.9276, Val: 0.7620, Test: 0.7800\n",
      "Epoch: 024, Loss: 0.9079, Val: 0.7660, Test: 0.7920\n",
      "Epoch: 025, Loss: 0.9344, Val: 0.7640, Test: 0.7870\n",
      "Epoch: 026, Loss: 0.9372, Val: 0.7740, Test: 0.7770\n",
      "Epoch: 027, Loss: 0.9384, Val: 0.7620, Test: 0.7720\n",
      "Epoch: 028, Loss: 0.9456, Val: 0.7640, Test: 0.7740\n",
      "Epoch: 029, Loss: 0.9314, Val: 0.7700, Test: 0.7720\n",
      "Epoch: 030, Loss: 0.9180, Val: 0.7620, Test: 0.7750\n",
      "Epoch: 031, Loss: 0.9200, Val: 0.7720, Test: 0.7690\n",
      "Epoch: 032, Loss: 0.9173, Val: 0.7760, Test: 0.7610\n",
      "Epoch: 033, Loss: 0.9138, Val: 0.7760, Test: 0.7630\n",
      "Epoch: 034, Loss: 0.9152, Val: 0.7780, Test: 0.7690\n",
      "Epoch: 035, Loss: 0.9164, Val: 0.7660, Test: 0.7720\n",
      "Epoch: 036, Loss: 0.9212, Val: 0.7560, Test: 0.7720\n",
      "Epoch: 037, Loss: 0.9050, Val: 0.7460, Test: 0.7580\n",
      "Epoch: 038, Loss: 0.9099, Val: 0.7660, Test: 0.7610\n",
      "Epoch: 039, Loss: 0.8938, Val: 0.7760, Test: 0.7700\n",
      "Epoch: 040, Loss: 0.9108, Val: 0.7740, Test: 0.7750\n",
      "Epoch: 041, Loss: 0.9077, Val: 0.7760, Test: 0.7760\n",
      "Epoch: 042, Loss: 0.8972, Val: 0.7760, Test: 0.7730\n",
      "Epoch: 043, Loss: 0.9015, Val: 0.7640, Test: 0.7780\n",
      "Epoch: 044, Loss: 0.9100, Val: 0.7460, Test: 0.7560\n",
      "Epoch: 045, Loss: 0.9244, Val: 0.7560, Test: 0.7530\n",
      "Epoch: 046, Loss: 0.9017, Val: 0.7520, Test: 0.7490\n",
      "Epoch: 047, Loss: 0.9081, Val: 0.7620, Test: 0.7430\n",
      "Epoch: 048, Loss: 0.9065, Val: 0.7660, Test: 0.7460\n",
      "Epoch: 049, Loss: 0.8850, Val: 0.7580, Test: 0.7410\n",
      "Epoch: 050, Loss: 0.9070, Val: 0.7640, Test: 0.7440\n"
     ]
    }
   ],
   "source": [
    "class NeighborSampler(RawNeighborSampler):\n",
    "    def sample(self, batch):\n",
    "        batch = torch.tensor(batch)\n",
    "        row, col, _ = self.adj_t.coo()\n",
    "\n",
    "        # For each node in `batch`, we sample a direct neighbor (as positive\n",
    "        # example) and a random node (as negative example):\n",
    "        pos_batch = random_walk(row, col, batch, walk_length=1,\n",
    "                                coalesced=False)[:, 1]\n",
    "\n",
    "        neg_batch = torch.randint(0, self.adj_t.size(1), (batch.numel(), ),\n",
    "                                  dtype=torch.long)\n",
    "\n",
    "        batch = torch.cat([batch, pos_batch, neg_batch], dim=0)\n",
    "        return super(NeighborSampler, self).sample(batch)\n",
    "\n",
    "\n",
    "train_loader = NeighborSampler(data.edge_index, sizes=[10, 10], batch_size=256,\n",
    "                               shuffle=True, num_nodes=data.num_nodes)\n",
    "\n",
    "\n",
    "class SAGE(nn.Module):\n",
    "    def __init__(self, in_channels, hidden_channels, num_layers):\n",
    "        super(SAGE, self).__init__()\n",
    "        self.num_layers = num_layers\n",
    "        self.convs = nn.ModuleList()\n",
    "\n",
    "        for i in range(num_layers):\n",
    "            in_channels = in_channels if i == 0 else hidden_channels\n",
    "            self.convs.append(SAGEConv(in_channels, hidden_channels))\n",
    "\n",
    "    def forward(self, x, adjs):\n",
    "        for i, (edge_index, _, size) in enumerate(adjs):\n",
    "            x_target = x[:size[1]]  # Target nodes are always placed first.\n",
    "            x = self.convs[i]((x, x_target), edge_index)\n",
    "            if i != self.num_layers - 1:\n",
    "                x = x.relu()\n",
    "                x = F.dropout(x, p=0.5, training=self.training)\n",
    "        return x\n",
    "\n",
    "    def full_forward(self, x, edge_index):\n",
    "        for i, conv in enumerate(self.convs):\n",
    "            x = conv(x, edge_index)\n",
    "            if i != self.num_layers - 1:\n",
    "                x = x.relu()\n",
    "                x = F.dropout(x, p=0.5, training=self.training)\n",
    "        return x\n",
    "\n",
    "\n",
    "device = torch.device('cuda' if torch.cuda.is_available() else 'cpu')\n",
    "model = SAGE(data.num_node_features, hidden_channels=64, num_layers=2)\n",
    "model = model.to(device)\n",
    "optimizer = torch.optim.Adam(model.parameters(), lr=0.01)\n",
    "x, edge_index = data.x.to(device), data.edge_index.to(device)\n",
    "\n",
    "\n",
    "def train():\n",
    "    model.train()\n",
    "\n",
    "    total_loss = 0\n",
    "    for batch_size, n_id, adjs in train_loader:\n",
    "        # `adjs` holds a list of `(edge_index, e_id, size)` tuples.\n",
    "        adjs = [adj.to(device) for adj in adjs]\n",
    "        optimizer.zero_grad()\n",
    "\n",
    "        out = model(x[n_id], adjs)\n",
    "        out, pos_out, neg_out = out.split(out.size(0) // 3, dim=0)\n",
    "\n",
    "        pos_loss = F.logsigmoid((out * pos_out).sum(-1)).mean()\n",
    "        neg_loss = F.logsigmoid(-(out * neg_out).sum(-1)).mean()\n",
    "        loss = -pos_loss - neg_loss\n",
    "        loss.backward()\n",
    "        optimizer.step()\n",
    "\n",
    "        total_loss += float(loss) * out.size(0)\n",
    "\n",
    "    return total_loss / data.num_nodes\n",
    "\n",
    "\n",
    "@torch.no_grad()\n",
    "def test():\n",
    "    model.eval()\n",
    "    out = model.full_forward(x, edge_index).cpu()\n",
    "\n",
    "    clf = LogisticRegression()\n",
    "    clf.fit(out[data.train_mask], data.y[data.train_mask])\n",
    "\n",
    "    val_acc = clf.score(out[data.val_mask], data.y[data.val_mask])\n",
    "    test_acc = clf.score(out[data.test_mask], data.y[data.test_mask])\n",
    "\n",
    "    return val_acc, test_acc\n",
    "\n",
    "\n",
    "for epoch in range(1, 51):\n",
    "    loss = train()\n",
    "    val_acc, test_acc = test()\n",
    "    print(f'Epoch: {epoch:03d}, Loss: {loss:.4f}, '\n",
    "          f'Val: {val_acc:.4f}, Test: {test_acc:.4f}')"
   ],
   "metadata": {
    "collapsed": false,
    "pycharm": {
     "name": "#%%\n"
    }
   }
  },
  {
   "cell_type": "code",
   "execution_count": null,
   "outputs": [],
   "source": [],
   "metadata": {
    "collapsed": false,
    "pycharm": {
     "name": "#%%\n"
    }
   }
  }
 ],
 "metadata": {
  "kernelspec": {
   "display_name": "Python 3",
   "language": "python",
   "name": "python3"
  },
  "language_info": {
   "codemirror_mode": {
    "name": "ipython",
    "version": 2
   },
   "file_extension": ".py",
   "mimetype": "text/x-python",
   "name": "python",
   "nbconvert_exporter": "python",
   "pygments_lexer": "ipython2",
   "version": "2.7.6"
  }
 },
 "nbformat": 4,
 "nbformat_minor": 0
}